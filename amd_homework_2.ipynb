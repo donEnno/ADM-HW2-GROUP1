{
 "cells": [
  {
   "cell_type": "code",
   "execution_count": 6,
   "id": "9fe8b89b-f22f-419b-be87-869b29263872",
   "metadata": {},
   "outputs": [],
   "source": [
    "import pandas as pd\n",
    "from tqdm import tqdm # handy for timing interations\n",
    "from matplotlib import pyplot as plt\n",
    "import numpy as np"
   ]
  },
  {
   "cell_type": "markdown",
   "id": "37d8d184-0ff3-4a3e-89f8-f676adad95b1",
   "metadata": {},
   "source": [
    "#### Setup for the data"
   ]
  },
  {
   "cell_type": "code",
   "execution_count": 3,
   "id": "fd940a58-a47b-45f5-9e72-0afb4d3fc10e",
   "metadata": {},
   "outputs": [],
   "source": [
    "loc_df = pd.read_csv('~/instagram_locations.zip', delimiter='\\t')"
   ]
  },
  {
   "cell_type": "code",
   "execution_count": 4,
   "id": "1681f5cb-c853-48f9-b963-c28290ece106",
   "metadata": {},
   "outputs": [],
   "source": [
    "profiles_df = pd.read_csv('instagram_profiles.zip', delimiter='\\t')"
   ]
  },
  {
   "cell_type": "markdown",
   "id": "eb1de7c4-dd28-447c-b161-b7f456289bd6",
   "metadata": {
    "tags": []
   },
   "source": [
    "### Research Question 2\n"
   ]
  },
  {
   "cell_type": "markdown",
   "id": "976f0084-5fd7-47e0-948b-500dc88035cc",
   "metadata": {},
   "source": [
    "#### Plot the number of posts for each profile in descending order."
   ]
  },
  {
   "cell_type": "code",
   "execution_count": 3,
   "id": "5fd2f064-3e48-46e9-8b52-8f72c112eed9",
   "metadata": {},
   "outputs": [
    {
     "data": {
      "text/plain": [
       "Text(0, 0.5, 'log(# Profiles)')"
      ]
     },
     "execution_count": 3,
     "metadata": {},
     "output_type": "execute_result"
    },
    {
     "data": {
      "image/png": "[encoded data removed]",
      "text/plain": [
       "<Figure size 432x288 with 1 Axes>"
      ]
     },
     "metadata": {
      "needs_background": "light"
     },
     "output_type": "display_data"
    }
   ],
   "source": [
    "sorted_profiles = profiles_df.sort_values(by='n_posts', ascending=False)\n",
    "sorted_profiles.dropna(subset=['n_posts'], inplace=True)\n",
    "sorted_profiles['n_posts'].plot(kind='hist', logy=True, bins=50, edgecolor='black')\n",
    "plt.xlabel('# Posts')\n",
    "plt.ylabel('log(# Profiles)')"
   ]
  },
  {
   "cell_type": "markdown",
   "id": "2604ee0c-a885-400b-a03d-807af3c1ad60",
   "metadata": {
    "tags": []
   },
   "source": [
    "#### What posts have the highest number of \"likes\"?"
   ]
  },
  {
   "cell_type": "code",
   "execution_count": 9,
   "id": "3a0e4ead-00e0-4446-8e50-42b81e84a7c5",
   "metadata": {},
   "outputs": [
    {
     "name": "stderr",
     "output_type": "stream",
     "text": [
      "0it [00:00, ?it/s]\n"
     ]
    },
    {
     "ename": "ValueError",
     "evalue": "invalid literal for int() with base 10: 'BXdjjUlgcgq'",
     "output_type": "error",
     "traceback": [
      "\u001b[0;31m---------------------------------------------------------------------------\u001b[0m",
      "\u001b[0;31mTypeError\u001b[0m                                 Traceback (most recent call last)",
      "File \u001b[0;32m~/SageMaker/python_39_venv/lib/python3.9/site-packages/pandas/_libs/parsers.pyx:1124\u001b[0m, in \u001b[0;36mpandas._libs.parsers.TextReader._convert_tokens\u001b[0;34m()\u001b[0m\n",
      "\u001b[0;31mTypeError\u001b[0m: Cannot cast array data from dtype('O') to dtype('int32') according to the rule 'safe'",
      "\nDuring handling of the above exception, another exception occurred:\n",
      "\u001b[0;31mValueError\u001b[0m                                Traceback (most recent call last)",
      "Cell \u001b[0;32mIn [9], line 4\u001b[0m\n\u001b[1;32m      2\u001b[0m columns \u001b[38;5;241m=\u001b[39m [\u001b[38;5;124m'\u001b[39m\u001b[38;5;124mnumbr_likes\u001b[39m\u001b[38;5;124m'\u001b[39m]\n\u001b[1;32m      3\u001b[0m \u001b[38;5;66;03m# Since the df is too big to read as whole use chunks\u001b[39;00m\n\u001b[0;32m----> 4\u001b[0m \u001b[38;5;28;01mfor\u001b[39;00m chunk \u001b[38;5;129;01min\u001b[39;00m tqdm(pd\u001b[38;5;241m.\u001b[39mread_csv(\u001b[38;5;124m'\u001b[39m\u001b[38;5;124m~/SageMaker/AWS-ADM-HW2-GROUP1/instagram_posts.zip\u001b[39m\u001b[38;5;124m'\u001b[39m, delimiter\u001b[38;5;241m=\u001b[39m\u001b[38;5;124m'\u001b[39m\u001b[38;5;130;01m\\t\u001b[39;00m\u001b[38;5;124m'\u001b[39m, header\u001b[38;5;241m=\u001b[39m\u001b[38;5;241m0\u001b[39m, chunksize\u001b[38;5;241m=\u001b[39m\u001b[38;5;241m500000\u001b[39m, names\u001b[38;5;241m=\u001b[39mcolumns, dtype\u001b[38;5;241m=\u001b[39mnp\u001b[38;5;241m.\u001b[39mint32)):\n\u001b[1;32m      5\u001b[0m     \u001b[38;5;28mprint\u001b[39m(chunk)\n\u001b[1;32m      6\u001b[0m     sorted_partial_df \u001b[38;5;241m=\u001b[39m chunk\u001b[38;5;241m.\u001b[39msort_values(by\u001b[38;5;241m=\u001b[39m\u001b[38;5;124m'\u001b[39m\u001b[38;5;124mnumbr_likes\u001b[39m\u001b[38;5;124m'\u001b[39m, ascending\u001b[38;5;241m=\u001b[39m\u001b[38;5;28;01mFalse\u001b[39;00m)\u001b[38;5;241m.\u001b[39mhead(\u001b[38;5;241m5\u001b[39m)\n",
      "File \u001b[0;32m~/SageMaker/python_39_venv/lib/python3.9/site-packages/tqdm/std.py:1195\u001b[0m, in \u001b[0;36mtqdm.__iter__\u001b[0;34m(self)\u001b[0m\n\u001b[1;32m   1192\u001b[0m time \u001b[38;5;241m=\u001b[39m \u001b[38;5;28mself\u001b[39m\u001b[38;5;241m.\u001b[39m_time\n\u001b[1;32m   1194\u001b[0m \u001b[38;5;28;01mtry\u001b[39;00m:\n\u001b[0;32m-> 1195\u001b[0m     \u001b[38;5;28;01mfor\u001b[39;00m obj \u001b[38;5;129;01min\u001b[39;00m iterable:\n\u001b[1;32m   1196\u001b[0m         \u001b[38;5;28;01myield\u001b[39;00m obj\n\u001b[1;32m   1197\u001b[0m         \u001b[38;5;66;03m# Update and possibly print the progressbar.\u001b[39;00m\n\u001b[1;32m   1198\u001b[0m         \u001b[38;5;66;03m# Note: does not call self.update(1) for speed optimisation.\u001b[39;00m\n",
      "File \u001b[0;32m~/SageMaker/python_39_venv/lib/python3.9/site-packages/pandas/io/parsers/readers.py:1698\u001b[0m, in \u001b[0;36mTextFileReader.__next__\u001b[0;34m(self)\u001b[0m\n\u001b[1;32m   1696\u001b[0m \u001b[38;5;28;01mdef\u001b[39;00m \u001b[38;5;21m__next__\u001b[39m(\u001b[38;5;28mself\u001b[39m) \u001b[38;5;241m-\u001b[39m\u001b[38;5;241m>\u001b[39m DataFrame:\n\u001b[1;32m   1697\u001b[0m     \u001b[38;5;28;01mtry\u001b[39;00m:\n\u001b[0;32m-> 1698\u001b[0m         \u001b[38;5;28;01mreturn\u001b[39;00m \u001b[38;5;28;43mself\u001b[39;49m\u001b[38;5;241;43m.\u001b[39;49m\u001b[43mget_chunk\u001b[49m\u001b[43m(\u001b[49m\u001b[43m)\u001b[49m\n\u001b[1;32m   1699\u001b[0m     \u001b[38;5;28;01mexcept\u001b[39;00m \u001b[38;5;167;01mStopIteration\u001b[39;00m:\n\u001b[1;32m   1700\u001b[0m         \u001b[38;5;28mself\u001b[39m\u001b[38;5;241m.\u001b[39mclose()\n",
      "File \u001b[0;32m~/SageMaker/python_39_venv/lib/python3.9/site-packages/pandas/io/parsers/readers.py:1810\u001b[0m, in \u001b[0;36mTextFileReader.get_chunk\u001b[0;34m(self, size)\u001b[0m\n\u001b[1;32m   1808\u001b[0m         \u001b[38;5;28;01mraise\u001b[39;00m \u001b[38;5;167;01mStopIteration\u001b[39;00m\n\u001b[1;32m   1809\u001b[0m     size \u001b[38;5;241m=\u001b[39m \u001b[38;5;28mmin\u001b[39m(size, \u001b[38;5;28mself\u001b[39m\u001b[38;5;241m.\u001b[39mnrows \u001b[38;5;241m-\u001b[39m \u001b[38;5;28mself\u001b[39m\u001b[38;5;241m.\u001b[39m_currow)\n\u001b[0;32m-> 1810\u001b[0m \u001b[38;5;28;01mreturn\u001b[39;00m \u001b[38;5;28;43mself\u001b[39;49m\u001b[38;5;241;43m.\u001b[39;49m\u001b[43mread\u001b[49m\u001b[43m(\u001b[49m\u001b[43mnrows\u001b[49m\u001b[38;5;241;43m=\u001b[39;49m\u001b[43msize\u001b[49m\u001b[43m)\u001b[49m\n",
      "File \u001b[0;32m~/SageMaker/python_39_venv/lib/python3.9/site-packages/pandas/io/parsers/readers.py:1778\u001b[0m, in \u001b[0;36mTextFileReader.read\u001b[0;34m(self, nrows)\u001b[0m\n\u001b[1;32m   1771\u001b[0m nrows \u001b[38;5;241m=\u001b[39m validate_integer(\u001b[38;5;124m\"\u001b[39m\u001b[38;5;124mnrows\u001b[39m\u001b[38;5;124m\"\u001b[39m, nrows)\n\u001b[1;32m   1772\u001b[0m \u001b[38;5;28;01mtry\u001b[39;00m:\n\u001b[1;32m   1773\u001b[0m     \u001b[38;5;66;03m# error: \"ParserBase\" has no attribute \"read\"\u001b[39;00m\n\u001b[1;32m   1774\u001b[0m     (\n\u001b[1;32m   1775\u001b[0m         index,\n\u001b[1;32m   1776\u001b[0m         columns,\n\u001b[1;32m   1777\u001b[0m         col_dict,\n\u001b[0;32m-> 1778\u001b[0m     ) \u001b[38;5;241m=\u001b[39m \u001b[38;5;28;43mself\u001b[39;49m\u001b[38;5;241;43m.\u001b[39;49m\u001b[43m_engine\u001b[49m\u001b[38;5;241;43m.\u001b[39;49m\u001b[43mread\u001b[49m\u001b[43m(\u001b[49m\u001b[43m  \u001b[49m\u001b[38;5;66;43;03m# type: ignore[attr-defined]\u001b[39;49;00m\n\u001b[1;32m   1779\u001b[0m \u001b[43m        \u001b[49m\u001b[43mnrows\u001b[49m\n\u001b[1;32m   1780\u001b[0m \u001b[43m    \u001b[49m\u001b[43m)\u001b[49m\n\u001b[1;32m   1781\u001b[0m \u001b[38;5;28;01mexcept\u001b[39;00m \u001b[38;5;167;01mException\u001b[39;00m:\n\u001b[1;32m   1782\u001b[0m     \u001b[38;5;28mself\u001b[39m\u001b[38;5;241m.\u001b[39mclose()\n",
      "File \u001b[0;32m~/SageMaker/python_39_venv/lib/python3.9/site-packages/pandas/io/parsers/c_parser_wrapper.py:230\u001b[0m, in \u001b[0;36mCParserWrapper.read\u001b[0;34m(self, nrows)\u001b[0m\n\u001b[1;32m    228\u001b[0m \u001b[38;5;28;01mtry\u001b[39;00m:\n\u001b[1;32m    229\u001b[0m     \u001b[38;5;28;01mif\u001b[39;00m \u001b[38;5;28mself\u001b[39m\u001b[38;5;241m.\u001b[39mlow_memory:\n\u001b[0;32m--> 230\u001b[0m         chunks \u001b[38;5;241m=\u001b[39m \u001b[38;5;28;43mself\u001b[39;49m\u001b[38;5;241;43m.\u001b[39;49m\u001b[43m_reader\u001b[49m\u001b[38;5;241;43m.\u001b[39;49m\u001b[43mread_low_memory\u001b[49m\u001b[43m(\u001b[49m\u001b[43mnrows\u001b[49m\u001b[43m)\u001b[49m\n\u001b[1;32m    231\u001b[0m         \u001b[38;5;66;03m# destructive to chunks\u001b[39;00m\n\u001b[1;32m    232\u001b[0m         data \u001b[38;5;241m=\u001b[39m _concatenate_chunks(chunks)\n",
      "File \u001b[0;32m~/SageMaker/python_39_venv/lib/python3.9/site-packages/pandas/_libs/parsers.pyx:820\u001b[0m, in \u001b[0;36mpandas._libs.parsers.TextReader.read_low_memory\u001b[0;34m()\u001b[0m\n",
      "File \u001b[0;32m~/SageMaker/python_39_venv/lib/python3.9/site-packages/pandas/_libs/parsers.pyx:890\u001b[0m, in \u001b[0;36mpandas._libs.parsers.TextReader._read_rows\u001b[0;34m()\u001b[0m\n",
      "File \u001b[0;32m~/SageMaker/python_39_venv/lib/python3.9/site-packages/pandas/_libs/parsers.pyx:1037\u001b[0m, in \u001b[0;36mpandas._libs.parsers.TextReader._convert_column_data\u001b[0;34m()\u001b[0m\n",
      "File \u001b[0;32m~/SageMaker/python_39_venv/lib/python3.9/site-packages/pandas/_libs/parsers.pyx:1130\u001b[0m, in \u001b[0;36mpandas._libs.parsers.TextReader._convert_tokens\u001b[0;34m()\u001b[0m\n",
      "\u001b[0;31mValueError\u001b[0m: invalid literal for int() with base 10: 'BXdjjUlgcgq'"
     ]
    }
   ],
   "source": [
    "columns = ['cts']\n",
    "path = '~/AWS-ADM-HW2-GROUP1/instagram_posts.zip'\n",
    "posts_df = pd.to_datetime(pd.read_csv(path, delimiter='\\t', usecols=columns).dropna().stack()).unstack()"
   ]
  },
  {
   "cell_type": "markdown",
   "id": "ac59aee0-d2e7-4afc-846c-d3be18a70059",
   "metadata": {
    "tags": []
   },
   "source": [
    "#### What posts have the most and the least number of comments?"
   ]
  },
  {
   "cell_type": "code",
   "execution_count": null,
   "id": "f295519f-a59e-49c1-a5ac-5537db595670",
   "metadata": {},
   "outputs": [],
   "source": []
  },
  {
   "cell_type": "markdown",
   "id": "dd654bd2-1362-41c3-a104-e15796e20c26",
   "metadata": {},
   "source": [
    "#### How many posts include tagged locations, and how many do not? Show it using an appropriate chart and comment your results."
   ]
  },
  {
   "cell_type": "code",
   "execution_count": null,
   "id": "7a8d489e-ee73-484a-b133-dd598d189188",
   "metadata": {},
   "outputs": [],
   "source": []
  },
  {
   "cell_type": "markdown",
   "id": "eec7a174-a160-4daf-b95e-5d618e4beb30",
   "metadata": {
    "tags": []
   },
   "source": [
    "#### How many posts include only photos? How many also have videos?"
   ]
  },
  {
   "cell_type": "code",
   "execution_count": null,
   "id": "f2dd7f26-252f-4fa0-b987-6dfbcd102c91",
   "metadata": {},
   "outputs": [],
   "source": [
    "# Requires sorting, maybe use cut? "
   ]
  },
  {
   "cell_type": "markdown",
   "id": "4aa237cf-c123-4265-bb4c-91b6a9944507",
   "metadata": {
    "tags": []
   },
   "source": [
    "#### What's the percentage of business accounts vs non-business? What can you interpret regarding that percentage?\n"
   ]
  },
  {
   "cell_type": "code",
   "execution_count": 9,
   "id": "f991ae17-fa61-4a9f-b1e7-893df5fedffc",
   "metadata": {},
   "outputs": [
    {
     "data": {
      "image/png": "[encoded data removed]",
      "text/plain": [
       "<Figure size 432x288 with 1 Axes>"
      ]
     },
     "metadata": {},
     "output_type": "display_data"
    }
   ],
   "source": [
    "N = len(profiles_df)\n",
    "n_business_na = profiles_df['is_business_account'].isna().sum()\n",
    "n_business_false = profiles_df['is_business_account'].value_counts()[False]\n",
    "n_business_true = profiles_df['is_business_account'].value_counts()[True]\n",
    "\n",
    "labels = ['nan', 'True', 'False']\n",
    "\n",
    "plt.pie([n_business_na, n_business_true, n_business_false], labels=labels, explode=[.1, 0, 0], autopct='%1.1f%%')\n",
    "plt.title('% of business accounts')\n",
    "\n",
    "plt.show()"
   ]
  },
  {
   "cell_type": "markdown",
   "id": "7c64f8da-80ce-4571-90bf-61ff1365e4b7",
   "metadata": {},
   "source": [
    "### Research Question 3"
   ]
  },
  {
   "cell_type": "markdown",
   "id": "7ee87cb5-5e3e-4c29-9877-88a0ba48e31d",
   "metadata": {},
   "source": [
    "### Research Question 4"
   ]
  },
  {
   "cell_type": "markdown",
   "id": "b6fa3672-753c-4d3e-bd3d-c381a06ca043",
   "metadata": {
    "tags": []
   },
   "source": [
    "### Research Question 5"
   ]
  },
  {
   "cell_type": "markdown",
   "id": "33c99130-f644-45f0-8565-438b410745ad",
   "metadata": {
    "tags": []
   },
   "source": [
    " ##### Plot the top 10 most popular users in terms of followers and their number of posts."
   ]
  },
  {
   "cell_type": "code",
   "execution_count": 13,
   "id": "b5c2f5f6-941a-4417-8575-5678e52029d4",
   "metadata": {},
   "outputs": [],
   "source": [
    "top_10_profiles = profiles_df.sort_values(by=['followers'], ascending=False).head(10)"
   ]
  },
  {
   "cell_type": "code",
   "execution_count": 37,
   "id": "7e6fd75a-326f-4c2d-953a-3343d17561f6",
   "metadata": {},
   "outputs": [
    {
     "data": {
      "image/png": "[encoded data removed]",
      "text/plain": [
       "<Figure size 432x288 with 2 Axes>"
      ]
     },
     "metadata": {
      "needs_background": "light"
     },
     "output_type": "display_data"
    }
   ],
   "source": [
    "fig, (ax1, ax2) = plt.subplots(ncols=2, sharex=True)\n",
    "\n",
    "top_10_profiles.plot.bar(x='profile_name', y='followers', ax=ax1)\n",
    "ax1.set_xlabel('Profile Name')\n",
    "ax1.set_ylabel('#Followers')\n",
    "\n",
    "top_10_profiles.plot.bar(x='profile_name', y='n_posts', ax=ax2)\n",
    "ax2.set_xlabel('Profile Name')\n",
    "ax2.set_ylabel('#Posts')\n",
    "\n",
    "fig.tight_layout()\n",
    "plt.show()"
   ]
  },
  {
   "cell_type": "markdown",
   "id": "ce998fb5-a4c0-469f-b37a-4f81c54980f5",
   "metadata": {
    "tags": []
   },
   "source": [
    "##### Who is the most influential user?"
   ]
  },
  {
   "cell_type": "code",
   "execution_count": 40,
   "id": "30cb5ba1-07a5-46f2-a1ef-6b2093cd0ac1",
   "metadata": {},
   "outputs": [
    {
     "data": {
      "text/html": [
       "<div>\n",
       "<style scoped>\n",
       "    .dataframe tbody tr th:only-of-type {\n",
       "        vertical-align: middle;\n",
       "    }\n",
       "\n",
       "    .dataframe tbody tr th {\n",
       "        vertical-align: top;\n",
       "    }\n",
       "\n",
       "    .dataframe thead th {\n",
       "        text-align: right;\n",
       "    }\n",
       "</style>\n",
       "<table border=\"1\" class=\"dataframe\">\n",
       "  <thead>\n",
       "    <tr style=\"text-align: right;\">\n",
       "      <th></th>\n",
       "      <th>sid</th>\n",
       "      <th>profile_id</th>\n",
       "      <th>profile_name</th>\n",
       "      <th>firstname_lastname</th>\n",
       "      <th>description</th>\n",
       "      <th>following</th>\n",
       "      <th>followers</th>\n",
       "      <th>n_posts</th>\n",
       "      <th>url</th>\n",
       "      <th>cts</th>\n",
       "      <th>is_business_account</th>\n",
       "    </tr>\n",
       "  </thead>\n",
       "  <tbody>\n",
       "    <tr>\n",
       "      <th>2880218</th>\n",
       "      <td>336492</td>\n",
       "      <td>25025320.0</td>\n",
       "      <td>instagram</td>\n",
       "      <td>Instagram</td>\n",
       "      <td>Bringing you closer to the people and things y...</td>\n",
       "      <td>226.0</td>\n",
       "      <td>285457645.0</td>\n",
       "      <td>5760.0</td>\n",
       "      <td>help.instagram.com</td>\n",
       "      <td>NaN</td>\n",
       "      <td>False</td>\n",
       "    </tr>\n",
       "    <tr>\n",
       "      <th>2582507</th>\n",
       "      <td>371414</td>\n",
       "      <td>3416684.0</td>\n",
       "      <td>victoriassecret</td>\n",
       "      <td>Victoria's Secret</td>\n",
       "      <td>Confidence is sexy. #wearitdaily</td>\n",
       "      <td>549.0</td>\n",
       "      <td>65269440.0</td>\n",
       "      <td>7355.0</td>\n",
       "      <td>like2b.uy/victoriassecret</td>\n",
       "      <td>NaN</td>\n",
       "      <td>True</td>\n",
       "    </tr>\n",
       "  </tbody>\n",
       "</table>\n",
       "</div>"
      ],
      "text/plain": [
       "            sid  profile_id     profile_name firstname_lastname  \\\n",
       "2880218  336492  25025320.0        instagram          Instagram   \n",
       "2582507  371414   3416684.0  victoriassecret  Victoria's Secret   \n",
       "\n",
       "                                               description  following  \\\n",
       "2880218  Bringing you closer to the people and things y...      226.0   \n",
       "2582507                   Confidence is sexy. #wearitdaily      549.0   \n",
       "\n",
       "           followers  n_posts                        url  cts  \\\n",
       "2880218  285457645.0   5760.0         help.instagram.com  NaN   \n",
       "2582507   65269440.0   7355.0  like2b.uy/victoriassecret  NaN   \n",
       "\n",
       "        is_business_account  \n",
       "2880218               False  \n",
       "2582507                True  "
      ]
     },
     "execution_count": 40,
     "metadata": {},
     "output_type": "execute_result"
    }
   ],
   "source": [
    "top_10_profiles.iloc[:2]"
   ]
  },
  {
   "cell_type": "markdown",
   "id": "f7a75ba7-fc69-4b04-81e5-b9303aa443e2",
   "metadata": {},
   "source": [
    "Not taking Instagrams own account into account, it is [Victoria's Secrtet](https://www.victoriassecret.com/us/)."
   ]
  },
  {
   "cell_type": "markdown",
   "id": "44a79625-f15f-4a08-993a-cfee0be68049",
   "metadata": {},
   "source": [
    "##### Have they posted anything with tagged locations? Extract the most frequent areas on their posts and plot the number of times each city has been visited."
   ]
  },
  {
   "cell_type": "code",
   "execution_count": 42,
   "id": "b65d0cf3-737d-4189-97bb-c28f97066c13",
   "metadata": {},
   "outputs": [],
   "source": [
    "name = 'victoriassecret'\n",
    "# Need posts df here\n"
   ]
  },
  {
   "cell_type": "markdown",
   "id": "df46117c-9ed2-4808-85ff-e0bda3d200fd",
   "metadata": {},
   "source": [
    "How many pictures-only posts have they published? How many reels? (only videos) and how many with both contents? Provide the number as percentages and interpret those figures."
   ]
  },
  {
   "cell_type": "code",
   "execution_count": null,
   "id": "b850d02c-4af8-4a0d-9749-110974f37927",
   "metadata": {},
   "outputs": [],
   "source": []
  },
  {
   "cell_type": "markdown",
   "id": "935bcb02-4970-4c18-849c-a1b330f80bb2",
   "metadata": {},
   "source": [
    "How many \"likes\" and comments did posts with only pictures receive? How about videos and mixed posts? Try to provide the average numbers and confront them with their followers amount, explaining what you can say from that comparison."
   ]
  },
  {
   "cell_type": "code",
   "execution_count": null,
   "id": "0aff7497-47cd-4326-b67f-0e8c041d13f7",
   "metadata": {},
   "outputs": [],
   "source": []
  },
  {
   "cell_type": "markdown",
   "id": "d8a14be8-dbd7-4917-87c8-bac22cf815fd",
   "metadata": {},
   "source": [
    "### Research Question 6"
   ]
  },
  {
   "cell_type": "markdown",
   "id": "9dc4fdf6-4e9e-4a98-8d71-1a26db291e8d",
   "metadata": {},
   "source": [
    "### Research Question 7"
   ]
  },
  {
   "cell_type": "markdown",
   "id": "b91e7bc7-0bef-45d5-acee-858f03adc6e1",
   "metadata": {},
   "source": [
    "### Research Question 8"
   ]
  },
  {
   "cell_type": "code",
   "execution_count": null,
   "id": "30c7f07c-4375-4e47-83ae-93717f0d4a58",
   "metadata": {},
   "outputs": [
    {
     "name": "stdout",
     "output_type": "stream",
     "text": [
      "Username for 'https://github.com/donEnno/ADM-HW2-GROUP1': "
     ]
    }
   ],
   "source": [
    "!git push --set-upstream origin enno -donEnno"
   ]
  }
 ],
 "metadata": {
  "kernelspec": {
   "display_name": "conda_python3",
   "language": "python",
   "name": "conda_python3"
  },
  "language_info": {
   "codemirror_mode": {
    "name": "ipython",
    "version": 3
   },
   "file_extension": ".py",
   "mimetype": "text/x-python",
   "name": "python",
   "nbconvert_exporter": "python",
   "pygments_lexer": "ipython3",
   "version": "3.8.12"
  }
 },
 "nbformat": 4,
 "nbformat_minor": 5
}
